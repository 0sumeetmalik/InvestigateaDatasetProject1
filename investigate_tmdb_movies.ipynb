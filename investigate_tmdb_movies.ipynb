{
 "cells": [
  {
   "cell_type": "markdown",
   "source": [
    "# Project : Investigate a Dataset of TMDB Movies\n",
    "\n",
    "## Table of contents\n",
    "<ul>\n",
    "<li><a href=\"#intro\"> Introduction </a></li>\n",
    "<li><a href=\"#wrangling\"> Data Wrangling </a></li>\n",
    "<li><a href=\"#explore\"> Exploratory Data Analysis </a></li>\n",
    "<li><a href=\"#conclusion\"> Conclusions to Questions</a></li>\n",
    "</ul>"
   ],
   "metadata": {
    "collapsed": false
   }
  },
  {
   "cell_type": "markdown",
   "source": [
    "<a id='intro'></a>\n",
    "## Introduction\n",
    "> 1. Importing Data\n",
    "> 2. Checking & Thinking of possible questions to answer\n",
    "> 3. Selecting Dependent and Independent variables for analysis"
   ],
   "metadata": {
    "collapsed": false
   }
  },
  {
   "cell_type": "code",
   "execution_count": 172,
   "metadata": {
    "collapsed": true
   },
   "outputs": [],
   "source": [
    "# All import for Projects\n",
    "import pandas as pd\n",
    "import numpy as np\n",
    "import matplotlib.pyplot as plt\n",
    "%matplotlib inline"
   ]
  },
  {
   "cell_type": "code",
   "execution_count": 173,
   "outputs": [
    {
     "data": {
      "text/plain": "       id    imdb_id  popularity     budget     revenue  \\\n0  135397  tt0369610   32.985763  150000000  1513528810   \n1   76341  tt1392190   28.419936  150000000   378436354   \n2  262500  tt2908446   13.112507  110000000   295238201   \n3  140607  tt2488496   11.173104  200000000  2068178225   \n4  168259  tt2820852    9.335014  190000000  1506249360   \n\n                 original_title  \\\n0                Jurassic World   \n1            Mad Max: Fury Road   \n2                     Insurgent   \n3  Star Wars: The Force Awakens   \n4                     Furious 7   \n\n                                                cast  \\\n0  Chris Pratt|Bryce Dallas Howard|Irrfan Khan|Vi...   \n1  Tom Hardy|Charlize Theron|Hugh Keays-Byrne|Nic...   \n2  Shailene Woodley|Theo James|Kate Winslet|Ansel...   \n3  Harrison Ford|Mark Hamill|Carrie Fisher|Adam D...   \n4  Vin Diesel|Paul Walker|Jason Statham|Michelle ...   \n\n                                            homepage          director  \\\n0                      http://www.jurassicworld.com/   Colin Trevorrow   \n1                        http://www.madmaxmovie.com/     George Miller   \n2     http://www.thedivergentseries.movie/#insurgent  Robert Schwentke   \n3  http://www.starwars.com/films/star-wars-episod...       J.J. Abrams   \n4                           http://www.furious7.com/         James Wan   \n\n                         tagline  ...  \\\n0              The park is open.  ...   \n1             What a Lovely Day.  ...   \n2     One Choice Can Destroy You  ...   \n3  Every generation has a story.  ...   \n4            Vengeance Hits Home  ...   \n\n                                            overview runtime  \\\n0  Twenty-two years after the events of Jurassic ...     124   \n1  An apocalyptic story set in the furthest reach...     120   \n2  Beatrice Prior must confront her inner demons ...     119   \n3  Thirty years after defeating the Galactic Empi...     136   \n4  Deckard Shaw seeks revenge against Dominic Tor...     137   \n\n                                      genres  \\\n0  Action|Adventure|Science Fiction|Thriller   \n1  Action|Adventure|Science Fiction|Thriller   \n2         Adventure|Science Fiction|Thriller   \n3   Action|Adventure|Science Fiction|Fantasy   \n4                      Action|Crime|Thriller   \n\n                                production_companies release_date vote_count  \\\n0  Universal Studios|Amblin Entertainment|Legenda...       6/9/15       5562   \n1  Village Roadshow Pictures|Kennedy Miller Produ...      5/13/15       6185   \n2  Summit Entertainment|Mandeville Films|Red Wago...      3/18/15       2480   \n3          Lucasfilm|Truenorth Productions|Bad Robot     12/15/15       5292   \n4  Universal Pictures|Original Film|Media Rights ...       4/1/15       2947   \n\n   vote_average  release_year    budget_adj   revenue_adj  \n0           6.5          2015  1.379999e+08  1.392446e+09  \n1           7.1          2015  1.379999e+08  3.481613e+08  \n2           6.3          2015  1.012000e+08  2.716190e+08  \n3           7.5          2015  1.839999e+08  1.902723e+09  \n4           7.3          2015  1.747999e+08  1.385749e+09  \n\n[5 rows x 21 columns]",
      "text/html": "<div>\n<style scoped>\n    .dataframe tbody tr th:only-of-type {\n        vertical-align: middle;\n    }\n\n    .dataframe tbody tr th {\n        vertical-align: top;\n    }\n\n    .dataframe thead th {\n        text-align: right;\n    }\n</style>\n<table border=\"1\" class=\"dataframe\">\n  <thead>\n    <tr style=\"text-align: right;\">\n      <th></th>\n      <th>id</th>\n      <th>imdb_id</th>\n      <th>popularity</th>\n      <th>budget</th>\n      <th>revenue</th>\n      <th>original_title</th>\n      <th>cast</th>\n      <th>homepage</th>\n      <th>director</th>\n      <th>tagline</th>\n      <th>...</th>\n      <th>overview</th>\n      <th>runtime</th>\n      <th>genres</th>\n      <th>production_companies</th>\n      <th>release_date</th>\n      <th>vote_count</th>\n      <th>vote_average</th>\n      <th>release_year</th>\n      <th>budget_adj</th>\n      <th>revenue_adj</th>\n    </tr>\n  </thead>\n  <tbody>\n    <tr>\n      <th>0</th>\n      <td>135397</td>\n      <td>tt0369610</td>\n      <td>32.985763</td>\n      <td>150000000</td>\n      <td>1513528810</td>\n      <td>Jurassic World</td>\n      <td>Chris Pratt|Bryce Dallas Howard|Irrfan Khan|Vi...</td>\n      <td>http://www.jurassicworld.com/</td>\n      <td>Colin Trevorrow</td>\n      <td>The park is open.</td>\n      <td>...</td>\n      <td>Twenty-two years after the events of Jurassic ...</td>\n      <td>124</td>\n      <td>Action|Adventure|Science Fiction|Thriller</td>\n      <td>Universal Studios|Amblin Entertainment|Legenda...</td>\n      <td>6/9/15</td>\n      <td>5562</td>\n      <td>6.5</td>\n      <td>2015</td>\n      <td>1.379999e+08</td>\n      <td>1.392446e+09</td>\n    </tr>\n    <tr>\n      <th>1</th>\n      <td>76341</td>\n      <td>tt1392190</td>\n      <td>28.419936</td>\n      <td>150000000</td>\n      <td>378436354</td>\n      <td>Mad Max: Fury Road</td>\n      <td>Tom Hardy|Charlize Theron|Hugh Keays-Byrne|Nic...</td>\n      <td>http://www.madmaxmovie.com/</td>\n      <td>George Miller</td>\n      <td>What a Lovely Day.</td>\n      <td>...</td>\n      <td>An apocalyptic story set in the furthest reach...</td>\n      <td>120</td>\n      <td>Action|Adventure|Science Fiction|Thriller</td>\n      <td>Village Roadshow Pictures|Kennedy Miller Produ...</td>\n      <td>5/13/15</td>\n      <td>6185</td>\n      <td>7.1</td>\n      <td>2015</td>\n      <td>1.379999e+08</td>\n      <td>3.481613e+08</td>\n    </tr>\n    <tr>\n      <th>2</th>\n      <td>262500</td>\n      <td>tt2908446</td>\n      <td>13.112507</td>\n      <td>110000000</td>\n      <td>295238201</td>\n      <td>Insurgent</td>\n      <td>Shailene Woodley|Theo James|Kate Winslet|Ansel...</td>\n      <td>http://www.thedivergentseries.movie/#insurgent</td>\n      <td>Robert Schwentke</td>\n      <td>One Choice Can Destroy You</td>\n      <td>...</td>\n      <td>Beatrice Prior must confront her inner demons ...</td>\n      <td>119</td>\n      <td>Adventure|Science Fiction|Thriller</td>\n      <td>Summit Entertainment|Mandeville Films|Red Wago...</td>\n      <td>3/18/15</td>\n      <td>2480</td>\n      <td>6.3</td>\n      <td>2015</td>\n      <td>1.012000e+08</td>\n      <td>2.716190e+08</td>\n    </tr>\n    <tr>\n      <th>3</th>\n      <td>140607</td>\n      <td>tt2488496</td>\n      <td>11.173104</td>\n      <td>200000000</td>\n      <td>2068178225</td>\n      <td>Star Wars: The Force Awakens</td>\n      <td>Harrison Ford|Mark Hamill|Carrie Fisher|Adam D...</td>\n      <td>http://www.starwars.com/films/star-wars-episod...</td>\n      <td>J.J. Abrams</td>\n      <td>Every generation has a story.</td>\n      <td>...</td>\n      <td>Thirty years after defeating the Galactic Empi...</td>\n      <td>136</td>\n      <td>Action|Adventure|Science Fiction|Fantasy</td>\n      <td>Lucasfilm|Truenorth Productions|Bad Robot</td>\n      <td>12/15/15</td>\n      <td>5292</td>\n      <td>7.5</td>\n      <td>2015</td>\n      <td>1.839999e+08</td>\n      <td>1.902723e+09</td>\n    </tr>\n    <tr>\n      <th>4</th>\n      <td>168259</td>\n      <td>tt2820852</td>\n      <td>9.335014</td>\n      <td>190000000</td>\n      <td>1506249360</td>\n      <td>Furious 7</td>\n      <td>Vin Diesel|Paul Walker|Jason Statham|Michelle ...</td>\n      <td>http://www.furious7.com/</td>\n      <td>James Wan</td>\n      <td>Vengeance Hits Home</td>\n      <td>...</td>\n      <td>Deckard Shaw seeks revenge against Dominic Tor...</td>\n      <td>137</td>\n      <td>Action|Crime|Thriller</td>\n      <td>Universal Pictures|Original Film|Media Rights ...</td>\n      <td>4/1/15</td>\n      <td>2947</td>\n      <td>7.3</td>\n      <td>2015</td>\n      <td>1.747999e+08</td>\n      <td>1.385749e+09</td>\n    </tr>\n  </tbody>\n</table>\n<p>5 rows × 21 columns</p>\n</div>"
     },
     "execution_count": 173,
     "metadata": {},
     "output_type": "execute_result"
    }
   ],
   "source": [
    "# Importing Data and doing basic analysis\n",
    "df = pd.read_csv('tmdb-movies.csv')\n",
    "df.head()"
   ],
   "metadata": {
    "collapsed": false
   }
  },
  {
   "cell_type": "code",
   "execution_count": 174,
   "outputs": [
    {
     "data": {
      "text/plain": "(10866, 21)"
     },
     "execution_count": 174,
     "metadata": {},
     "output_type": "execute_result"
    }
   ],
   "source": [
    "df.shape"
   ],
   "metadata": {
    "collapsed": false
   }
  },
  {
   "cell_type": "code",
   "execution_count": 175,
   "outputs": [
    {
     "data": {
      "text/plain": "6.1    496\n6.0    495\n5.8    486\n5.9    473\n6.2    464\n      ... \n8.6      1\n8.9      1\n9.2      1\n2.0      1\n8.7      1\nName: vote_average, Length: 72, dtype: int64"
     },
     "execution_count": 175,
     "metadata": {},
     "output_type": "execute_result"
    }
   ],
   "source": [
    "df.vote_average.value_counts()"
   ],
   "metadata": {
    "collapsed": false
   }
  },
  {
   "cell_type": "code",
   "execution_count": 176,
   "outputs": [
    {
     "name": "stdout",
     "output_type": "stream",
     "text": [
      "<class 'pandas.core.frame.DataFrame'>\n",
      "RangeIndex: 10866 entries, 0 to 10865\n",
      "Data columns (total 21 columns):\n",
      " #   Column                Non-Null Count  Dtype  \n",
      "---  ------                --------------  -----  \n",
      " 0   id                    10866 non-null  int64  \n",
      " 1   imdb_id               10856 non-null  object \n",
      " 2   popularity            10866 non-null  float64\n",
      " 3   budget                10866 non-null  int64  \n",
      " 4   revenue               10866 non-null  int64  \n",
      " 5   original_title        10866 non-null  object \n",
      " 6   cast                  10790 non-null  object \n",
      " 7   homepage              2936 non-null   object \n",
      " 8   director              10822 non-null  object \n",
      " 9   tagline               8042 non-null   object \n",
      " 10  keywords              9373 non-null   object \n",
      " 11  overview              10862 non-null  object \n",
      " 12  runtime               10866 non-null  int64  \n",
      " 13  genres                10843 non-null  object \n",
      " 14  production_companies  9836 non-null   object \n",
      " 15  release_date          10866 non-null  object \n",
      " 16  vote_count            10866 non-null  int64  \n",
      " 17  vote_average          10866 non-null  float64\n",
      " 18  release_year          10866 non-null  int64  \n",
      " 19  budget_adj            10866 non-null  float64\n",
      " 20  revenue_adj           10866 non-null  float64\n",
      "dtypes: float64(4), int64(6), object(11)\n",
      "memory usage: 1.7+ MB\n"
     ]
    }
   ],
   "source": [
    "df.info()"
   ],
   "metadata": {
    "collapsed": false
   }
  },
  {
   "cell_type": "markdown",
   "source": [
    "### Choosing Dependent and independent variables\n",
    "> Voting Average looks like a link between fields. It will be interesting to do analysis of how voting average is correlated and impacting Budget, Revenue, popularity, director\n",
    "\n",
    "\n",
    "### Questions to explore\n",
    "> 1. Is voting average high is budget spend is higher? Any correlation there?\n",
    "> 2. Is higher revenue has any correlation with voting average?\n",
    "> 3. Is popularity has any association with voting average?\n",
    "> 4. Has director name has any impact on voting average?\n",
    "Assumption Budget & revenue adjusted will be final correct values"
   ],
   "metadata": {
    "collapsed": false
   }
  },
  {
   "cell_type": "markdown",
   "source": [
    "<a id='wrangling'></a>\n",
    "# Data Wrangling\n",
    "> Removing all extra columns from dataframe\n",
    "> Checking datatypes\n",
    "> Checking for duplicates\n",
    "> Checking for null values\n",
    "> Dropping or filling Null values"
   ],
   "metadata": {
    "collapsed": false
   }
  },
  {
   "cell_type": "code",
   "execution_count": 177,
   "outputs": [
    {
     "data": {
      "text/plain": "Index(['id', 'imdb_id', 'popularity', 'budget', 'revenue', 'original_title',\n       'cast', 'homepage', 'director', 'tagline', 'keywords', 'overview',\n       'runtime', 'genres', 'production_companies', 'release_date',\n       'vote_count', 'vote_average', 'release_year', 'budget_adj',\n       'revenue_adj'],\n      dtype='object')"
     },
     "execution_count": 177,
     "metadata": {},
     "output_type": "execute_result"
    }
   ],
   "source": [
    "all_columns = df.columns\n",
    "all_columns"
   ],
   "metadata": {
    "collapsed": false
   }
  },
  {
   "cell_type": "code",
   "execution_count": 178,
   "outputs": [
    {
     "data": {
      "text/plain": "       id  popularity          director  vote_average    budget_adj  \\\n0  135397   32.985763   Colin Trevorrow           6.5  1.379999e+08   \n1   76341   28.419936     George Miller           7.1  1.379999e+08   \n2  262500   13.112507  Robert Schwentke           6.3  1.012000e+08   \n3  140607   11.173104       J.J. Abrams           7.5  1.839999e+08   \n4  168259    9.335014         James Wan           7.3  1.747999e+08   \n\n    revenue_adj  \n0  1.392446e+09  \n1  3.481613e+08  \n2  2.716190e+08  \n3  1.902723e+09  \n4  1.385749e+09  ",
      "text/html": "<div>\n<style scoped>\n    .dataframe tbody tr th:only-of-type {\n        vertical-align: middle;\n    }\n\n    .dataframe tbody tr th {\n        vertical-align: top;\n    }\n\n    .dataframe thead th {\n        text-align: right;\n    }\n</style>\n<table border=\"1\" class=\"dataframe\">\n  <thead>\n    <tr style=\"text-align: right;\">\n      <th></th>\n      <th>id</th>\n      <th>popularity</th>\n      <th>director</th>\n      <th>vote_average</th>\n      <th>budget_adj</th>\n      <th>revenue_adj</th>\n    </tr>\n  </thead>\n  <tbody>\n    <tr>\n      <th>0</th>\n      <td>135397</td>\n      <td>32.985763</td>\n      <td>Colin Trevorrow</td>\n      <td>6.5</td>\n      <td>1.379999e+08</td>\n      <td>1.392446e+09</td>\n    </tr>\n    <tr>\n      <th>1</th>\n      <td>76341</td>\n      <td>28.419936</td>\n      <td>George Miller</td>\n      <td>7.1</td>\n      <td>1.379999e+08</td>\n      <td>3.481613e+08</td>\n    </tr>\n    <tr>\n      <th>2</th>\n      <td>262500</td>\n      <td>13.112507</td>\n      <td>Robert Schwentke</td>\n      <td>6.3</td>\n      <td>1.012000e+08</td>\n      <td>2.716190e+08</td>\n    </tr>\n    <tr>\n      <th>3</th>\n      <td>140607</td>\n      <td>11.173104</td>\n      <td>J.J. Abrams</td>\n      <td>7.5</td>\n      <td>1.839999e+08</td>\n      <td>1.902723e+09</td>\n    </tr>\n    <tr>\n      <th>4</th>\n      <td>168259</td>\n      <td>9.335014</td>\n      <td>James Wan</td>\n      <td>7.3</td>\n      <td>1.747999e+08</td>\n      <td>1.385749e+09</td>\n    </tr>\n  </tbody>\n</table>\n</div>"
     },
     "execution_count": 178,
     "metadata": {},
     "output_type": "execute_result"
    }
   ],
   "source": [
    "df.drop(columns=['imdb_id', 'budget', 'revenue', 'original_title',\n",
    "       'cast', 'homepage', 'tagline', 'keywords', 'overview',\n",
    "       'runtime', 'genres', 'production_companies', 'release_date',\n",
    "       'vote_count', 'release_year', ], axis=1, inplace=True)\n",
    "df.head()"
   ],
   "metadata": {
    "collapsed": false
   }
  },
  {
   "cell_type": "code",
   "execution_count": 179,
   "outputs": [
    {
     "name": "stdout",
     "output_type": "stream",
     "text": [
      "<class 'pandas.core.frame.DataFrame'>\n",
      "RangeIndex: 10866 entries, 0 to 10865\n",
      "Data columns (total 6 columns):\n",
      " #   Column        Non-Null Count  Dtype  \n",
      "---  ------        --------------  -----  \n",
      " 0   id            10866 non-null  int64  \n",
      " 1   popularity    10866 non-null  float64\n",
      " 2   director      10822 non-null  object \n",
      " 3   vote_average  10866 non-null  float64\n",
      " 4   budget_adj    10866 non-null  float64\n",
      " 5   revenue_adj   10866 non-null  float64\n",
      "dtypes: float64(4), int64(1), object(1)\n",
      "memory usage: 509.5+ KB\n"
     ]
    }
   ],
   "source": [
    "df.info()"
   ],
   "metadata": {
    "collapsed": false
   }
  },
  {
   "cell_type": "code",
   "execution_count": 180,
   "outputs": [],
   "source": [
    "# There are director values which are missing, As we cannot fill it with other or any other mean values.\n",
    "df.dropna(subset=['director'], inplace=True)"
   ],
   "metadata": {
    "collapsed": false
   }
  },
  {
   "cell_type": "code",
   "execution_count": 181,
   "outputs": [],
   "source": [
    "# Creating ratings columns which mark rating as Very good (8+), good ( 7-8), Average( 6-7) , poor( 4-6), very poor( 4-)"
   ],
   "metadata": {
    "collapsed": false
   }
  },
  {
   "cell_type": "code",
   "execution_count": 182,
   "outputs": [],
   "source": [
    "def rating(row):\n",
    "       if row['vote_average'] >= 8:\n",
    "              val = 'very good'\n",
    "       elif 7 <= row['vote_average'] < 8:\n",
    "              val = 'good'\n",
    "       elif 6 <= row['vote_average'] <7:\n",
    "              val = 'average'\n",
    "       elif 4 <= row['vote_average'] <6:\n",
    "              val = 'poor'\n",
    "       else:\n",
    "              val = 'very poor'\n",
    "       return val\n",
    "\n",
    "df['ratings'] = df.apply(rating, axis =1 )\n"
   ],
   "metadata": {
    "collapsed": false
   }
  },
  {
   "cell_type": "code",
   "execution_count": 183,
   "outputs": [
    {
     "name": "stdout",
     "output_type": "stream",
     "text": [
      "<class 'pandas.core.frame.DataFrame'>\n",
      "Int64Index: 10822 entries, 0 to 10865\n",
      "Data columns (total 7 columns):\n",
      " #   Column        Non-Null Count  Dtype  \n",
      "---  ------        --------------  -----  \n",
      " 0   id            10822 non-null  int64  \n",
      " 1   popularity    10822 non-null  float64\n",
      " 2   director      10822 non-null  object \n",
      " 3   vote_average  10822 non-null  float64\n",
      " 4   budget_adj    10822 non-null  float64\n",
      " 5   revenue_adj   10822 non-null  float64\n",
      " 6   ratings       10822 non-null  object \n",
      "dtypes: float64(4), int64(1), object(2)\n",
      "memory usage: 676.4+ KB\n"
     ]
    }
   ],
   "source": [
    "# Confirming Drop\n",
    "df.info()"
   ],
   "metadata": {
    "collapsed": false
   }
  },
  {
   "cell_type": "code",
   "execution_count": 184,
   "outputs": [
    {
     "data": {
      "text/plain": "                  id    popularity  vote_average    budget_adj   revenue_adj\ncount   10822.000000  10822.000000  10822.000000  1.082200e+04  1.082200e+04\nmean    65719.968952      0.648525      5.971419  1.762126e+07  5.157217e+07\nstd     91837.722286      1.001657      0.933675  3.435805e+07  1.448894e+08\nmin         5.000000      0.000188      1.500000  0.000000e+00  0.000000e+00\n25%     10578.250000      0.209038      5.400000  0.000000e+00  0.000000e+00\n50%     20534.500000      0.385161      6.000000  0.000000e+00  0.000000e+00\n75%     74997.750000      0.716278      6.600000  2.099042e+07  3.397891e+07\nmax    417859.000000     32.985763      9.200000  4.250000e+08  2.827124e+09",
      "text/html": "<div>\n<style scoped>\n    .dataframe tbody tr th:only-of-type {\n        vertical-align: middle;\n    }\n\n    .dataframe tbody tr th {\n        vertical-align: top;\n    }\n\n    .dataframe thead th {\n        text-align: right;\n    }\n</style>\n<table border=\"1\" class=\"dataframe\">\n  <thead>\n    <tr style=\"text-align: right;\">\n      <th></th>\n      <th>id</th>\n      <th>popularity</th>\n      <th>vote_average</th>\n      <th>budget_adj</th>\n      <th>revenue_adj</th>\n    </tr>\n  </thead>\n  <tbody>\n    <tr>\n      <th>count</th>\n      <td>10822.000000</td>\n      <td>10822.000000</td>\n      <td>10822.000000</td>\n      <td>1.082200e+04</td>\n      <td>1.082200e+04</td>\n    </tr>\n    <tr>\n      <th>mean</th>\n      <td>65719.968952</td>\n      <td>0.648525</td>\n      <td>5.971419</td>\n      <td>1.762126e+07</td>\n      <td>5.157217e+07</td>\n    </tr>\n    <tr>\n      <th>std</th>\n      <td>91837.722286</td>\n      <td>1.001657</td>\n      <td>0.933675</td>\n      <td>3.435805e+07</td>\n      <td>1.448894e+08</td>\n    </tr>\n    <tr>\n      <th>min</th>\n      <td>5.000000</td>\n      <td>0.000188</td>\n      <td>1.500000</td>\n      <td>0.000000e+00</td>\n      <td>0.000000e+00</td>\n    </tr>\n    <tr>\n      <th>25%</th>\n      <td>10578.250000</td>\n      <td>0.209038</td>\n      <td>5.400000</td>\n      <td>0.000000e+00</td>\n      <td>0.000000e+00</td>\n    </tr>\n    <tr>\n      <th>50%</th>\n      <td>20534.500000</td>\n      <td>0.385161</td>\n      <td>6.000000</td>\n      <td>0.000000e+00</td>\n      <td>0.000000e+00</td>\n    </tr>\n    <tr>\n      <th>75%</th>\n      <td>74997.750000</td>\n      <td>0.716278</td>\n      <td>6.600000</td>\n      <td>2.099042e+07</td>\n      <td>3.397891e+07</td>\n    </tr>\n    <tr>\n      <th>max</th>\n      <td>417859.000000</td>\n      <td>32.985763</td>\n      <td>9.200000</td>\n      <td>4.250000e+08</td>\n      <td>2.827124e+09</td>\n    </tr>\n  </tbody>\n</table>\n</div>"
     },
     "execution_count": 184,
     "metadata": {},
     "output_type": "execute_result"
    }
   ],
   "source": [
    "df.describe()"
   ],
   "metadata": {
    "collapsed": false
   }
  },
  {
   "cell_type": "code",
   "execution_count": 185,
   "outputs": [
    {
     "data": {
      "text/plain": "       id  popularity         director  vote_average    budget_adj  \\\n0  135397   32.985763  Colin Trevorrow           6.5  1.379999e+08   \n\n    revenue_adj  ratings  \n0  1.392446e+09  average  ",
      "text/html": "<div>\n<style scoped>\n    .dataframe tbody tr th:only-of-type {\n        vertical-align: middle;\n    }\n\n    .dataframe tbody tr th {\n        vertical-align: top;\n    }\n\n    .dataframe thead th {\n        text-align: right;\n    }\n</style>\n<table border=\"1\" class=\"dataframe\">\n  <thead>\n    <tr style=\"text-align: right;\">\n      <th></th>\n      <th>id</th>\n      <th>popularity</th>\n      <th>director</th>\n      <th>vote_average</th>\n      <th>budget_adj</th>\n      <th>revenue_adj</th>\n      <th>ratings</th>\n    </tr>\n  </thead>\n  <tbody>\n    <tr>\n      <th>0</th>\n      <td>135397</td>\n      <td>32.985763</td>\n      <td>Colin Trevorrow</td>\n      <td>6.5</td>\n      <td>1.379999e+08</td>\n      <td>1.392446e+09</td>\n      <td>average</td>\n    </tr>\n  </tbody>\n</table>\n</div>"
     },
     "execution_count": 185,
     "metadata": {},
     "output_type": "execute_result"
    }
   ],
   "source": [
    "max_pop = df['popularity'].max()\n",
    "df.query('popularity == {}'.format(max_pop))"
   ],
   "metadata": {
    "collapsed": false
   }
  },
  {
   "cell_type": "code",
   "execution_count": 186,
   "outputs": [
    {
     "data": {
      "text/plain": "<Figure size 640x480 with 1 Axes>",
      "image/png": "[encoded data removed]"
     },
     "metadata": {},
     "output_type": "display_data"
    }
   ],
   "source": [
    "df['popularity'].hist();"
   ],
   "metadata": {
    "collapsed": false
   }
  },
  {
   "cell_type": "code",
   "execution_count": 187,
   "outputs": [],
   "source": [
    "# Graph clearly shows that any values above 10 are outlier in popularity and will skew the decision making, we should drop lines which are more than 10\n",
    "df = df.query('popularity <= 10')"
   ],
   "metadata": {
    "collapsed": false
   }
  },
  {
   "cell_type": "markdown",
   "source": [
    "## Exploratory Data Analysis\n",
    "Here we will explore data analysis and create a interpretation for each of question we asked in introduction"
   ],
   "metadata": {
    "collapsed": false
   }
  },
  {
   "cell_type": "markdown",
   "source": [
    "### Question 1: Is voting average high is budget spend is higher? Any correlation there?"
   ],
   "metadata": {
    "collapsed": false
   }
  },
  {
   "cell_type": "code",
   "execution_count": 188,
   "outputs": [
    {
     "data": {
      "text/plain": "0.09147319285284637"
     },
     "execution_count": 188,
     "metadata": {},
     "output_type": "execute_result"
    }
   ],
   "source": [
    "voting_budget_corr = df['vote_average'].corr(df['budget_adj'])\n",
    "voting_budget_corr"
   ],
   "metadata": {
    "collapsed": false
   }
  },
  {
   "cell_type": "code",
   "execution_count": 189,
   "outputs": [],
   "source": [
    "# Normalize it to Millions\n",
    "ratings_budget = df.groupby('ratings').budget_adj.mean() / 1000000"
   ],
   "metadata": {
    "collapsed": false
   }
  },
  {
   "cell_type": "code",
   "execution_count": 190,
   "outputs": [
    {
     "data": {
      "text/plain": "ratings\naverage      20.158797\ngood         19.477732\npoor         15.370837\nvery good    11.627380\nvery poor     5.110997\nName: budget_adj, dtype: float64"
     },
     "execution_count": 190,
     "metadata": {},
     "output_type": "execute_result"
    }
   ],
   "source": [
    "ratings_budget"
   ],
   "metadata": {
    "collapsed": false
   }
  },
  {
   "cell_type": "code",
   "execution_count": 191,
   "outputs": [
    {
     "data": {
      "text/plain": "<Figure size 640x480 with 1 Axes>",
      "image/png": "[encoded data removed]"
     },
     "metadata": {},
     "output_type": "display_data"
    }
   ],
   "source": [
    "ratings_budget.loc[['very good','good','average','poor','very poor']].plot.bar();\n",
    "plt.title('Rating vs Budget spend')\n",
    "plt.xlabel('Ratings')\n",
    "plt.ylabel('Budget in $millions');"
   ],
   "metadata": {
    "collapsed": false
   }
  },
  {
   "cell_type": "markdown",
   "source": [
    "#### Conclusion Question 1\n",
    "1. High Rating has not direct correlation with Budget of Movie, we might have expected more money spend will lead to higher rating as quality and cast is good. Actually is not associated\n",
    "2. Average moves tends to have highest budget\n",
    "3. Very poor is nicely correlated to fact that less spend leads to poor quality of movies leads to poor ratings\n",
    "4. Poor correlation confirm our point 1"
   ],
   "metadata": {
    "collapsed": false
   }
  },
  {
   "cell_type": "markdown",
   "source": [
    "### Question 2: Does higher revenue has any correlation with voting average?"
   ],
   "metadata": {
    "collapsed": false
   }
  },
  {
   "cell_type": "code",
   "execution_count": 192,
   "outputs": [
    {
     "data": {
      "text/plain": "0.19234311579926078"
     },
     "execution_count": 192,
     "metadata": {},
     "output_type": "execute_result"
    }
   ],
   "source": [
    "voting_revenue_corr = df['vote_average'].corr(df['revenue_adj'])\n",
    "voting_revenue_corr"
   ],
   "metadata": {
    "collapsed": false
   }
  },
  {
   "cell_type": "code",
   "execution_count": 193,
   "outputs": [],
   "source": [
    "rating_revenue_distribution = df.groupby('ratings').revenue_adj.mean() /1000000"
   ],
   "metadata": {
    "collapsed": false
   }
  },
  {
   "cell_type": "code",
   "execution_count": 194,
   "outputs": [
    {
     "data": {
      "text/plain": "ratings\naverage       61.549322\ngood         100.064794\npoor          27.906549\nvery good     99.119857\nvery poor      3.164906\nName: revenue_adj, dtype: float64"
     },
     "execution_count": 194,
     "metadata": {},
     "output_type": "execute_result"
    }
   ],
   "source": [
    "rating_revenue_distribution"
   ],
   "metadata": {
    "collapsed": false
   }
  },
  {
   "cell_type": "code",
   "execution_count": 195,
   "outputs": [
    {
     "data": {
      "text/plain": "<Figure size 640x480 with 1 Axes>",
      "image/png": "[encoded data removed]"
     },
     "metadata": {},
     "output_type": "display_data"
    }
   ],
   "source": [
    "\n",
    "rating_revenue_distribution.loc[['very good','good','average','poor','very poor']].plot.bar();\n",
    "plt.title('Rating vs Revenue Earned')\n",
    "plt.xlabel('Ratings')\n",
    "plt.ylabel('Revenue in $millions');"
   ],
   "metadata": {
    "collapsed": false
   }
  },
  {
   "cell_type": "markdown",
   "source": [
    "### Conclusion Question 2\n",
    "1. Yes high revenues has direct correlation with ratings, it is weak , not very strong\n",
    "2. Good and very good movies in general earn same revenue which shows any rating above 7 earns good revenue"
   ],
   "metadata": {
    "collapsed": false
   }
  },
  {
   "cell_type": "markdown",
   "source": [
    "## Question 3 : Is popularity has any association with voting average?"
   ],
   "metadata": {
    "collapsed": false
   }
  },
  {
   "cell_type": "code",
   "execution_count": 196,
   "outputs": [
    {
     "data": {
      "text/plain": "0.23174001546431133"
     },
     "execution_count": 196,
     "metadata": {},
     "output_type": "execute_result"
    }
   ],
   "source": [
    "popul_revenue_corr = df['vote_average'].corr(df['popularity'])\n",
    "popul_revenue_corr"
   ],
   "metadata": {
    "collapsed": false
   }
  },
  {
   "cell_type": "code",
   "execution_count": 197,
   "outputs": [
    {
     "data": {
      "text/plain": "ratings\naverage      0.673628\ngood         1.006268\npoor         0.488672\nvery good    1.328539\nvery poor    0.304664\nName: popularity, dtype: float64"
     },
     "execution_count": 197,
     "metadata": {},
     "output_type": "execute_result"
    }
   ],
   "source": [
    "popularity_revenue_distribution = df.groupby('ratings').popularity.mean()\n",
    "popularity_revenue_distribution"
   ],
   "metadata": {
    "collapsed": false
   }
  },
  {
   "cell_type": "code",
   "execution_count": 198,
   "outputs": [
    {
     "data": {
      "text/plain": "<Figure size 640x480 with 1 Axes>",
      "image/png": "[encoded data removed]"
     },
     "metadata": {},
     "output_type": "display_data"
    }
   ],
   "source": [
    "popularity_revenue_distribution.loc[['very good','good','average','poor','very poor']].plot.bar();\n",
    "plt.title('Rating vs Popularity Earned')\n",
    "plt.xlabel('Ratings')\n",
    "plt.ylabel('Popularity');"
   ],
   "metadata": {
    "collapsed": false
   }
  },
  {
   "cell_type": "markdown",
   "source": [
    "### Conclusion Question 3:\n",
    "> rating has strong correlation with popularity"
   ],
   "metadata": {
    "collapsed": false
   }
  },
  {
   "cell_type": "markdown",
   "source": [
    "## Question 4 : Has director name has any impact on voting average?"
   ],
   "metadata": {
    "collapsed": false
   }
  },
  {
   "cell_type": "code",
   "execution_count": 199,
   "outputs": [
    {
     "name": "stderr",
     "output_type": "stream",
     "text": [
      "/var/folders/21/qywv5crs2nd9_kc0fd39_y_h0000gn/T/ipykernel_14914/4163633601.py:1: FutureWarning: The default value of numeric_only in DataFrameGroupBy.mean is deprecated. In a future version, numeric_only will default to False. Either specify numeric_only or select only columns which should be valid for the function.\n",
      "  director_voting = df.groupby('director').mean().vote_average\n"
     ]
    },
    {
     "data": {
      "text/plain": "director\n FrÃ©dÃ©ric Jardin            5.9\nA. Todd Smith                 5.4\nA.R. Murugadoss               6.9\nAaron Aites                   6.5\nAaron Blaise|Robert Walker    6.8\n                             ... \nÃ‡aÄŸan Irmak                 8.2\nÃ‰mile Gaudreault             5.2\nÃ‰ric Besnard                 5.1\nÃ‰tienne Chatiliez            6.7\nÃ€lex Pastor|David Pastor     5.7\nName: vote_average, Length: 5065, dtype: float64"
     },
     "execution_count": 199,
     "metadata": {},
     "output_type": "execute_result"
    }
   ],
   "source": [
    "director_voting = df.groupby('director').mean().vote_average\n",
    "director_voting"
   ],
   "metadata": {
    "collapsed": false
   }
  },
  {
   "cell_type": "code",
   "execution_count": 200,
   "outputs": [
    {
     "data": {
      "text/plain": "Woody Allen                    45\nClint Eastwood                 34\nMartin Scorsese                29\nSteven Spielberg               29\nRidley Scott                   23\n                               ..\nDan Povenmire|Robert Hughes     1\nSam Levinson                    1\nDaniel Auteuil                  1\nChris Kentis|Laura Lau          1\nHarold P. Warren                1\nName: director, Length: 5065, dtype: int64"
     },
     "execution_count": 200,
     "metadata": {},
     "output_type": "execute_result"
    }
   ],
   "source": [
    "director_value_count = df.director.value_counts()\n",
    "director_value_count"
   ],
   "metadata": {
    "collapsed": false
   }
  },
  {
   "cell_type": "code",
   "execution_count": 201,
   "outputs": [
    {
     "data": {
      "text/plain": "       id  popularity                        director  vote_average  \\\n4  168259    9.335014                       James Wan           7.3   \n5  281957    9.110700  Alejandro GonzÃ¡lez IÃ±Ã¡rritu           7.2   \n6   87101    8.654359                     Alan Taylor           5.8   \n7  286217    7.667400                    Ridley Scott           7.6   \n8  211672    7.404165        Kyle Balda|Pierre Coffin           6.5   \n\n     budget_adj   revenue_adj  ratings  no_of_movies  \n4  1.747999e+08  1.385749e+09     good             8  \n5  1.241999e+08  4.903142e+08     good             4  \n6  1.425999e+08  4.053551e+08     poor             2  \n7  9.935996e+07  5.477497e+08     good            23  \n8  6.807997e+07  1.064192e+09  average             1  ",
      "text/html": "<div>\n<style scoped>\n    .dataframe tbody tr th:only-of-type {\n        vertical-align: middle;\n    }\n\n    .dataframe tbody tr th {\n        vertical-align: top;\n    }\n\n    .dataframe thead th {\n        text-align: right;\n    }\n</style>\n<table border=\"1\" class=\"dataframe\">\n  <thead>\n    <tr style=\"text-align: right;\">\n      <th></th>\n      <th>id</th>\n      <th>popularity</th>\n      <th>director</th>\n      <th>vote_average</th>\n      <th>budget_adj</th>\n      <th>revenue_adj</th>\n      <th>ratings</th>\n      <th>no_of_movies</th>\n    </tr>\n  </thead>\n  <tbody>\n    <tr>\n      <th>4</th>\n      <td>168259</td>\n      <td>9.335014</td>\n      <td>James Wan</td>\n      <td>7.3</td>\n      <td>1.747999e+08</td>\n      <td>1.385749e+09</td>\n      <td>good</td>\n      <td>8</td>\n    </tr>\n    <tr>\n      <th>5</th>\n      <td>281957</td>\n      <td>9.110700</td>\n      <td>Alejandro GonzÃ¡lez IÃ±Ã¡rritu</td>\n      <td>7.2</td>\n      <td>1.241999e+08</td>\n      <td>4.903142e+08</td>\n      <td>good</td>\n      <td>4</td>\n    </tr>\n    <tr>\n      <th>6</th>\n      <td>87101</td>\n      <td>8.654359</td>\n      <td>Alan Taylor</td>\n      <td>5.8</td>\n      <td>1.425999e+08</td>\n      <td>4.053551e+08</td>\n      <td>poor</td>\n      <td>2</td>\n    </tr>\n    <tr>\n      <th>7</th>\n      <td>286217</td>\n      <td>7.667400</td>\n      <td>Ridley Scott</td>\n      <td>7.6</td>\n      <td>9.935996e+07</td>\n      <td>5.477497e+08</td>\n      <td>good</td>\n      <td>23</td>\n    </tr>\n    <tr>\n      <th>8</th>\n      <td>211672</td>\n      <td>7.404165</td>\n      <td>Kyle Balda|Pierre Coffin</td>\n      <td>6.5</td>\n      <td>6.807997e+07</td>\n      <td>1.064192e+09</td>\n      <td>average</td>\n      <td>1</td>\n    </tr>\n  </tbody>\n</table>\n</div>"
     },
     "execution_count": 201,
     "metadata": {},
     "output_type": "execute_result"
    }
   ],
   "source": [
    "df['no_of_movies'] = df.groupby(['director'])['id'].transform('count')\n",
    "df.head()"
   ],
   "metadata": {
    "collapsed": false
   }
  },
  {
   "cell_type": "code",
   "execution_count": 202,
   "outputs": [
    {
     "data": {
      "text/plain": "(7595, 8)"
     },
     "execution_count": 202,
     "metadata": {},
     "output_type": "execute_result"
    }
   ],
   "source": [
    "# Let's analyze if director do more movies it leads to better rating. So dropping all movies below 1\n",
    "\n",
    "df_director = df.query('no_of_movies > 1')\n",
    "df_director.shape"
   ],
   "metadata": {
    "collapsed": false
   }
  },
  {
   "cell_type": "code",
   "execution_count": 203,
   "outputs": [],
   "source": [
    "vote_avg_movies = df.groupby('no_of_movies').vote_average.mean()"
   ],
   "metadata": {
    "collapsed": false
   }
  },
  {
   "cell_type": "code",
   "execution_count": 204,
   "outputs": [
    {
     "data": {
      "text/plain": "<Figure size 640x480 with 1 Axes>",
      "image/png": "[encoded data removed]"
     },
     "metadata": {},
     "output_type": "display_data"
    }
   ],
   "source": [
    "vote_avg_movies.plot.bar();"
   ],
   "metadata": {
    "collapsed": false
   }
  },
  {
   "cell_type": "markdown",
   "source": [
    "Conclusion Question 4\n",
    "> Poor correlation with director to ratings\n",
    "> Poor correlation with number of movies to vote average, there is slight increase and better as you do more movies you tend to get better in getting good customer ratings, but not significant\n"
   ],
   "metadata": {
    "collapsed": false
   }
  },
  {
   "cell_type": "markdown",
   "source": [
    "## Conclusions Mentioned post every Question\n",
    "> thank you !"
   ],
   "metadata": {
    "collapsed": false
   }
  },
  {
   "cell_type": "code",
   "execution_count": 204,
   "outputs": [],
   "source": [],
   "metadata": {
    "collapsed": false
   }
  }
 ],
 "metadata": {
  "kernelspec": {
   "display_name": "Python 3",
   "language": "python",
   "name": "python3"
  },
  "language_info": {
   "codemirror_mode": {
    "name": "ipython",
    "version": 2
   },
   "file_extension": ".py",
   "mimetype": "text/x-python",
   "name": "python",
   "nbconvert_exporter": "python",
   "pygments_lexer": "ipython2",
   "version": "2.7.6"
  }
 },
 "nbformat": 4,
 "nbformat_minor": 0
}
